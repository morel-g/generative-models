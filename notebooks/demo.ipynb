{
 "cells": [
  {
   "cell_type": "markdown",
   "metadata": {},
   "source": [
    "### Cloning the Repository and Changing Directory\n",
    "\n",
    "1. Clone the repository from GitHub.\n",
    "2. Navigate to the 'generative-models' directory inside the cloned repository."
   ]
  },
  {
   "cell_type": "code",
   "execution_count": null,
   "metadata": {},
   "outputs": [],
   "source": [
    "!git clone https://github.com/morel-g/generative-models.git\n",
    "%cd generative-models"
   ]
  },
  {
   "cell_type": "markdown",
   "metadata": {},
   "source": [
    "### Install necessary libraries\n",
    "\n",
    "To run the provided code successfully, we first install several essential Python libraries and dependencies."
   ]
  },
  {
   "cell_type": "code",
   "execution_count": null,
   "metadata": {},
   "outputs": [],
   "source": [
    "%%capture\n",
    "!pip install pytorch_lightning\n",
    "!pip install datasets\n",
    "!pip install einops\n",
    "!pip install Ninja\n",
    "!pip install POT\n",
    "!pip install diffusers==0.15.0 --force-reinstall\n",
    "!pip install torchdiffeq"
   ]
  },
  {
   "cell_type": "markdown",
   "metadata": {},
   "source": [
    "### Running the main script with configuration\n",
    "\n",
    "**Configuration files**: Execute the `main.py` script with a configuration file provided in `config_files/`\n",
    "The files contain specific parameters and settings for the code execution.\n",
    "\n",
    "**Output Location**: After execution, the results will be saved in `../outputs/version_i/figures/`. Where `i` denotes the version number of the current run."
   ]
  },
  {
   "cell_type": "markdown",
   "metadata": {},
   "source": [
    "To run a model on a toy dataset use the configuration files provided in **`config_files/toy/`**."
   ]
  },
  {
   "cell_type": "code",
   "execution_count": null,
   "metadata": {},
   "outputs": [],
   "source": [
    "CONFIG_FILE=\"config_files/toy/score_toy_config\"\n",
    "!python main.py --config_file $CONFIG_FILE"
   ]
  },
  {
   "cell_type": "markdown",
   "metadata": {},
   "source": [
    "To run a model on an image dataset use the configuration files provided in **`config_files/img/`**.\n",
    "\n",
    "Make sure to have a GPU available."
   ]
  },
  {
   "cell_type": "code",
   "execution_count": null,
   "metadata": {},
   "outputs": [],
   "source": [
    "CONFIG_FILE=\"config_files/img/score_fashion_mnist_config.py\"\n",
    "!python main.py --config_file $CONFIG_FILE"
   ]
  }
 ],
 "metadata": {
  "language_info": {
   "name": "python"
  },
  "orig_nbformat": 4
 },
 "nbformat": 4,
 "nbformat_minor": 2
}
