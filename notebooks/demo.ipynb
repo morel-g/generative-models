{
 "cells": [
  {
   "cell_type": "markdown",
   "metadata": {},
   "source": [
    "### Cloning the repository and changing directory\n",
    "\n",
    "1. Clone the repository from GitHub.\n",
    "2. Navigate to the 'generative-models' directory inside the cloned repository."
   ]
  },
  {
   "cell_type": "code",
   "execution_count": null,
   "metadata": {},
   "outputs": [],
   "source": [
    "!git clone https://github.com/morel-g/generative-models.git\n",
    "%cd generative-models"
   ]
  },
  {
   "cell_type": "markdown",
   "metadata": {},
   "source": [
    "### Install necessary libraries\n",
    "\n",
    "To run the provided code successfully, we first install several essential Python libraries and dependencies."
   ]
  },
  {
   "cell_type": "code",
   "execution_count": null,
   "metadata": {},
   "outputs": [],
   "source": [
    "%%capture\n",
    "!pip install pytorch_lightning\n",
    "!pip install datasets\n",
    "!pip install einops\n",
    "!pip install diffusers\n",
    "!pip install geoopt\n",
    "!pip install cartopy\n",
    "!pip install mlflow"
   ]
  },
  {
   "cell_type": "markdown",
   "metadata": {},
   "source": [
    "#### Install libraries for RL datasets (optional)"
   ]
  },
  {
   "cell_type": "markdown",
   "metadata": {},
   "source": [
    "##### Install for Kaggle notebooks"
   ]
  },
  {
   "cell_type": "code",
   "execution_count": null,
   "metadata": {},
   "outputs": [],
   "source": [
    "%%capture\n",
    "import os\n",
    "if not os.path.exists('.mujoco_setup_complete'):\n",
    "  # Get the prereqs\n",
    "  !apt-get -qq update\n",
    "  !apt-get -qq install -y libosmesa6-dev libgl1-mesa-glx libglfw3 libgl1-mesa-dev libglew-dev patchelf\n",
    "  # Get Mujoco\n",
    "  !mkdir ~/.mujoco\n",
    "  !wget -q https://mujoco.org/download/mujoco210-linux-x86_64.tar.gz -O mujoco.tar.gz\n",
    "  !tar -zxf mujoco.tar.gz -C \"$HOME/.mujoco\"\n",
    "  !rm mujoco.tar.gz\n",
    "  # Add it to the actively loaded path and the bashrc path (these only do so much)\n",
    "  !echo 'export LD_LIBRARY_PATH=$LD_LIBRARY_PATH:$HOME/.mujoco/mujoco210/bin' >> ~/.bashrc \n",
    "  !echo 'export LD_PRELOAD=$LD_PRELOAD:/usr/lib/x86_64-linux-gnu/libGLEW.so' >> ~/.bashrc \n",
    "  # THE ANNOYING ONE, FORCE IT INTO LDCONFIG SO WE ACTUALLY GET ACCESS TO IT THIS SESSION\n",
    "  !echo \"/root/.mujoco/mujoco210/bin\" > /etc/ld.so.conf.d/mujoco_ld_lib_path.conf\n",
    "  !ldconfig\n",
    "  # Install Mujoco-py\n",
    "  !pip3 install -U 'mujoco-py<2.2,>=2.1'\n",
    "  # run once\n",
    "  !touch .mujoco_setup_complete\n",
    "\n",
    "try:\n",
    "  if _mujoco_run_once:\n",
    "    pass\n",
    "except NameError:\n",
    "  _mujoco_run_once = False\n",
    "if not _mujoco_run_once:\n",
    "  # Add it to the actively loaded path and the bashrc path (these only do so much)\n",
    "  try:\n",
    "    os.environ['LD_LIBRARY_PATH']=os.environ['LD_LIBRARY_PATH'] + ':/root/.mujoco/mujoco210/bin'\n",
    "  except KeyError:\n",
    "    os.environ['LD_LIBRARY_PATH']='/root/.mujoco/mujoco210/bin'\n",
    "  try:\n",
    "    os.environ['LD_PRELOAD']=os.environ['LD_PRELOAD'] + ':/usr/lib/x86_64-linux-gnu/libGLEW.so'\n",
    "  except KeyError:\n",
    "    os.environ['LD_PRELOAD']='/usr/lib/x86_64-linux-gnu/libGLEW.so'\n",
    "  # presetup so we don't see output on first env initialization\n",
    "  import mujoco_py\n",
    "  _mujoco_run_once = True\n",
    "#sources of this code block : https://gist.github.com/BuildingAtom/3119ac9c595324c8001a7454f23bf8c8, \n",
    "#https://www.kaggle.com/code/mmdalix/openai-gym-mujoco-env-setup-and-training-2022/notebook\n",
    "!pip install git+https://github.com/Farama-Foundation/d4rl@master#egg=d4rl\n",
    "\n",
    "import os\n",
    "os.environ.pop('LD_PRELOAD', None)"
   ]
  },
  {
   "cell_type": "markdown",
   "metadata": {},
   "source": [
    "##### Install for Colab notebooks"
   ]
  },
  {
   "cell_type": "code",
   "execution_count": null,
   "metadata": {},
   "outputs": [],
   "source": [
    "%%capture\n",
    "# installations primiarly needed for Mujoco\n",
    "!apt-get install -y \\\n",
    "    libgl1-mesa-dev \\\n",
    "    libgl1-mesa-glx \\\n",
    "    libglew-dev \\\n",
    "    libosmesa6-dev \\\n",
    "    software-properties-common\n",
    "!apt-get install -y patchelf\n",
    "%pip install -f https://download.pytorch.org/whl/torch_stable.html \\\n",
    "                free-mujoco-py \\\n",
    "                gym \\\n",
    "                git+https://github.com/rail-berkeley/d4rl.git \\\n",
    "                mediapy"
   ]
  },
  {
   "cell_type": "markdown",
   "metadata": {},
   "source": [
    "---\n",
    "\n",
    "### Running the main script with configuration files\n",
    "\n",
    "**Configuration files**: Execute the `main.py` script with a configuration file provided in `config_files/`\n",
    "The files contain specific parameters and settings for the code execution.\n",
    "\n",
    "**Output Location**: After execution, the results will be saved in `../outputs/version_i/figures/`. Where `i` denotes the version number of the current run.\n",
    "\n",
    "**MLflow integration**: MLflow is a powerful open-source platform designed for managing the complete machine learning lifecycle. MLflow offers tools for logging parameters, code versions, metrics, and artifacts in machine learning projects, enabling more efficient tracking and comparison of various experiments. MLflow can be used with the present code. By default mlflow repository is ../mlrun. To use MLflow in a colab environement see the [section below]() (ref to mlflow section)\n",
    "\n",
    "---\n",
    "\n",
    "#### Note on progress bar display in notebook/Colab\n",
    "\n",
    "When running the script in a notebook/Colab environment, you might encounter an issue with the progress bar display. Specifically, the validation progress bar may be displayed on a new line at each update. This behavior is a result of the interaction between the notebook/Colab and the progress bar implementation in PyTorch Lightning.\n",
    "\n",
    "**Possible solutions**:\n",
    "1. **Using a different progress bar**: Some libraries offer notebook-specific progress bars that display better in these environments. You could consider integrating one of these if the progress bar issue with PyTorch Lightning remains problematic.\n",
    "2. **Disabling the progress bar**: If the display issue becomes too distracting, consider disabling the progress bar by adjusting the respective parameter in the configuration file.\n",
    "3. **Running locally**: If possible, run the script in a local environment (like a terminal) where the progress bar display works as expected.\n",
    "\n",
    "---"
   ]
  },
  {
   "cell_type": "markdown",
   "metadata": {},
   "source": [
    "\n",
    "\n",
    "To run a model on a toy dataset use the configuration files provided in **`config_files/toy/`**.\n",
    "\n"
   ]
  },
  {
   "cell_type": "code",
   "execution_count": null,
   "metadata": {},
   "outputs": [],
   "source": [
    "CONFIG_FILE=\"config_files/toy/score_toy_config\"\n",
    "!python main.py --config_file $CONFIG_FILE"
   ]
  },
  {
   "cell_type": "markdown",
   "metadata": {},
   "source": [
    "To run a model on an image dataset use the configuration files provided in **`config_files/img/`**.\n",
    "\n",
    "Make sure to have a GPU available."
   ]
  },
  {
   "cell_type": "code",
   "execution_count": null,
   "metadata": {},
   "outputs": [],
   "source": [
    "CONFIG_FILE=\"config_files/img/score_fashion_mnist_config.py\"\n",
    "!python main.py --config_file $CONFIG_FILE"
   ]
  },
  {
   "cell_type": "markdown",
   "metadata": {},
   "source": [
    "To generate samples from a specific checkpoint use the main_viz file."
   ]
  },
  {
   "cell_type": "code",
   "execution_count": null,
   "metadata": {},
   "outputs": [],
   "source": [
    "CKPT_PATH = \"path/to/some/checkpoint.ckpt\"\n",
    "!python main_viz.py -c $CKPT_PATH -gpu 0"
   ]
  },
  {
   "cell_type": "markdown",
   "metadata": {},
   "source": [
    "###  MLflow integration for colab environement\n",
    "\n",
    "MLflow is a powerful open-source platform designed for managing the complete machine learning lifecycle. MLflow offers tools for logging parameters, code versions, metrics, and artifacts in machine learning projects, enabling more efficient tracking and comparison of models. In this section, we'll go through the process of utilizing MLflow in a colab notebook for effective experiment tracking."
   ]
  },
  {
   "cell_type": "markdown",
   "metadata": {},
   "source": [
    "MLflow's tracking server usually runs locally. However, in a Colab environment, the server would be running on a remote server in the cloud, not accessible directly from the local machine. `pyngrok` is a Python wrapper for Ngrok, a utility that creates a secure tunnel to the localhost. This tunnel allows to access the MLflow tracking server running on Colab from local machine's web browser. First install pyngrok:"
   ]
  },
  {
   "cell_type": "code",
   "execution_count": null,
   "metadata": {},
   "outputs": [],
   "source": [
    "!pip install pyngrok --quiet"
   ]
  },
  {
   "cell_type": "markdown",
   "metadata": {},
   "source": [
    "And then run mlflow through pyngrok's tunnel. It is needed to create an account here https://dashboard.ngrok.com/ to obtain an authtoken."
   ]
  },
  {
   "cell_type": "code",
   "execution_count": null,
   "metadata": {},
   "outputs": [],
   "source": [
    "import os\n",
    "\n",
    "# Set the MLflow tracking URI to a local directory\n",
    "os.environ['MLFLOW_TRACKING_URI'] = 'file:///content/mlruns'\n",
    "# Start the MLflow tracking server in the background\n",
    "get_ipython().system_raw(\"mlflow ui --backend-store-uri /content/mlruns &\")\n",
    "\n",
    "\n",
    "# create remote tunnel using ngrok.com to allow local port access\n",
    "# borrowed from https://colab.research.google.com/github/alfozan/MLflow-GBRT-demo/blob/master/MLflow-GBRT-demo.ipynb#scrollTo=4h3bKHMYUIG6\n",
    "\n",
    "from pyngrok import ngrok\n",
    "\n",
    "# Terminate open tunnels if exist\n",
    "ngrok.kill()\n",
    "\n",
    "# Setting the authtoken (optional)\n",
    "# Get your authtoken from https://dashboard.ngrok.com/auth\n",
    "NGROK_AUTH_TOKEN = \"\"\n",
    "ngrok.set_auth_token(NGROK_AUTH_TOKEN)\n",
    "\n",
    "# Set up a tunnel to the mlflow ui port 5000\n",
    "public_url = ngrok.connect(addr=\"5000\")\n",
    "print(\"MLflow Tracking UI:\", public_url)"
   ]
  }
 ],
 "metadata": {
  "language_info": {
   "name": "python"
  },
  "orig_nbformat": 4
 },
 "nbformat": 4,
 "nbformat_minor": 2
}
