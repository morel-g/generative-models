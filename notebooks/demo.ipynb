{
 "cells": [
  {
   "cell_type": "markdown",
   "metadata": {},
   "source": [
    "### Cloning the repository and changing directory\n",
    "\n",
    "1. Clone the repository from GitHub.\n",
    "2. Navigate to the 'generative-models' directory inside the cloned repository."
   ]
  },
  {
   "cell_type": "code",
   "execution_count": null,
   "metadata": {},
   "outputs": [],
   "source": [
    "!git clone https://github.com/morel-g/generative-models.git\n",
    "%cd generative-models"
   ]
  },
  {
   "cell_type": "markdown",
   "metadata": {},
   "source": [
    "### Install necessary libraries\n",
    "\n",
    "To run the provided code successfully, we first install several essential Python libraries and dependencies."
   ]
  },
  {
   "cell_type": "code",
   "execution_count": null,
   "metadata": {},
   "outputs": [],
   "source": [
    "%%capture\n",
    "!pip install pytorch_lightning\n",
    "!pip install datasets\n",
    "!pip install einops\n",
    "!pip install Ninja\n",
    "!pip install POT\n",
    "!pip install diffusers==0.15.0 --force-reinstall\n",
    "!pip install torchdiffeq"
   ]
  },
  {
   "cell_type": "markdown",
   "metadata": {},
   "source": [
    "---\n",
    "\n",
    "### Running the main script with configuration\n",
    "\n",
    "**Configuration files**: Execute the `main.py` script with a configuration file provided in `config_files/`\n",
    "The files contain specific parameters and settings for the code execution.\n",
    "\n",
    "**Output Location**: After execution, the results will be saved in `../outputs/version_i/figures/`. Where `i` denotes the version number of the current run.\n",
    "\n",
    "---\n",
    "\n",
    "#### Note on progress bar display in notebook/Colab\n",
    "\n",
    "When running the script in a notebook/Colab environment, you might encounter an issue with the progress bar display. Specifically, the validation progress bar may be displayed on a new line at each update. This behavior is a result of the interaction between the notebook/Colab and the progress bar implementation in PyTorch Lightning.\n",
    "\n",
    "**Possible solutions**:\n",
    "1. **Using a different progress bar**: Some libraries offer notebook-specific progress bars that display better in these environments. You could consider integrating one of these if the progress bar issue with PyTorch Lightning remains problematic.\n",
    "2. **Disabling the progress bar**: If the display issue becomes too distracting, consider disabling the progress bar by adjusting the respective parameter in the configuration file.\n",
    "3. **Running locally**: If possible, run the script in a local environment (like a terminal) where the progress bar display works as expected.\n",
    "\n",
    "---"
   ]
  },
  {
   "cell_type": "markdown",
   "metadata": {},
   "source": [
    "\n",
    "\n",
    "To run a model on a toy dataset use the configuration files provided in **`config_files/toy/`**.\n",
    "\n"
   ]
  },
  {
   "cell_type": "code",
   "execution_count": null,
   "metadata": {},
   "outputs": [],
   "source": [
    "CONFIG_FILE=\"config_files/toy/score_toy_config\"\n",
    "!python main.py --config_file $CONFIG_FILE"
   ]
  },
  {
   "cell_type": "markdown",
   "metadata": {},
   "source": [
    "To run a model on an image dataset use the configuration files provided in **`config_files/img/`**.\n",
    "\n",
    "Make sure to have a GPU available."
   ]
  },
  {
   "cell_type": "code",
   "execution_count": null,
   "metadata": {},
   "outputs": [],
   "source": [
    "CONFIG_FILE=\"config_files/img/score_fashion_mnist_config.py\"\n",
    "!python main.py --config_file $CONFIG_FILE"
   ]
  }
 ],
 "metadata": {
  "language_info": {
   "name": "python"
  },
  "orig_nbformat": 4
 },
 "nbformat": 4,
 "nbformat_minor": 2
}
