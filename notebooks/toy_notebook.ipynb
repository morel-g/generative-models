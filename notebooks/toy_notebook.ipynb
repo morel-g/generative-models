{
 "cells": [
  {
   "cell_type": "markdown",
   "metadata": {},
   "source": [
    "### Install necessary libraries\n",
    "\n",
    "To run the provided code successfully, we'll first install several essential Python libraries and dependencies."
   ]
  },
  {
   "cell_type": "code",
   "execution_count": null,
   "metadata": {},
   "outputs": [],
   "source": [
    "%%capture\n",
    "!pip install pytorch_lightning\n",
    "!pip install datasets\n",
    "!pip install einops\n",
    "!pip install Ninja\n",
    "!pip install diffusers==0.15.0 --force-reinstall\n",
    "!pip install torchdiffeq"
   ]
  },
  {
   "cell_type": "markdown",
   "metadata": {},
   "source": [
    "### Running the Main Script with Configuration\n",
    "\n",
    "We're executing the `main.py` script with a provided configuration:\n",
    "\n",
    "- **Configuration File**: `config_files/toy/toy_score_config`\n",
    "  \n",
    "  This file contains specific parameters and settings for our code execution.\n",
    "\n",
    "**Output Location**: After execution, the results will be saved in `../outputs/version_i/figures/`. Here, `i` denotes the version number of the current run."
   ]
  },
  {
   "cell_type": "code",
   "execution_count": null,
   "metadata": {},
   "outputs": [],
   "source": [
    "CONFIG_FILE=\"config_files/toy/score_toy_config\"\n",
    "!python main.py --config_file $CONFIG_FILE"
   ]
  }
 ],
 "metadata": {
  "language_info": {
   "name": "python"
  },
  "orig_nbformat": 4
 },
 "nbformat": 4,
 "nbformat_minor": 2
}
